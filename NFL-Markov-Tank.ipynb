{
 "cells": [
  {
   "cell_type": "code",
   "execution_count": 1,
   "metadata": {},
   "outputs": [],
   "source": [
    "import pandas as pd\n",
    "import numpy as np\n",
    "import matplotlib.pyplot as plt\n",
    "import random"
   ]
  },
  {
   "cell_type": "code",
   "execution_count": 2,
   "metadata": {},
   "outputs": [],
   "source": [
    "def weighted_random(initial, probs):\n",
    "    new_rand = random.uniform(0, 1)\n",
    "    temp_sum = 0\n",
    "    \n",
    "    for i in range(len(probs[0])):\n",
    "        temp_sum += probs[initial - 1][i]\n",
    "        \n",
    "        if new_rand < temp_sum:\n",
    "            return i + 1\n",
    "    \n",
    "    return -1"
   ]
  },
  {
   "cell_type": "code",
   "execution_count": 3,
   "metadata": {},
   "outputs": [],
   "source": [
    "SIMULATIONS = 100000\n",
    "TEAMS = 32\n",
    "DRAFTS = 18\n",
    "TENURE = 5\n",
    "states_tested = [4, 5, 7]\n",
    "teams_list = [\"Cardinals\", \"Falcons\", \"Ravens\", \"Bills\", \"Panthers\", \"Bears\", \n",
    "              \"Bengals\", \"Browns\", \"Cowboys\", \"Broncos\", \"Lions\", \"Packers\", \"Texans\", \n",
    "              \"Colts\", \"Jaguars\", \"Chiefs\", \"Dolphins\", \"Vikings\", \"Patriots\", \"Saints\", \n",
    "              \"Giants\", \"Jets\", \"Raiders\", \"Eagles\", \"Steelers\", \"Rams\", \"Chargers\", \n",
    "              \"49ers\", \"Seahawks\", \"Buccaneers\", \"Titans\", \"Redskins\"]"
   ]
  },
  {
   "cell_type": "code",
   "execution_count": 4,
   "metadata": {},
   "outputs": [],
   "source": [
    "data = pd.read_csv(\"NFL Draft Order, 2002-2019.csv\")"
   ]
  },
  {
   "cell_type": "code",
   "execution_count": 5,
   "metadata": {},
   "outputs": [],
   "source": [
    "def label_teams(data, teams_list, analysis_num):\n",
    "    team_groups = np.zeros(shape = (TEAMS, DRAFTS))\n",
    "    \n",
    "    for i in range(DRAFTS):\n",
    "        for j in range(TEAMS):\n",
    "            team_name = data.iloc[j, i + 1]\n",
    "            \n",
    "            if analysis_num == 4:\n",
    "                if j < 5:\n",
    "                    team_groups[teams_list.index(team_name)][i] = 1\n",
    "                elif j < 10:\n",
    "                    team_groups[teams_list.index(team_name)][i] = 2\n",
    "                elif j < 30:\n",
    "                    team_groups[teams_list.index(team_name)][i] = 3\n",
    "                else:\n",
    "                    team_groups[teams_list.index(team_name)][i] = 4\n",
    "            elif analysis_num == 5:\n",
    "                if j < 5:\n",
    "                    team_groups[teams_list.index(team_name)][i] = 1\n",
    "                elif j < 10:\n",
    "                    team_groups[teams_list.index(team_name)][i] = 2\n",
    "                elif j < 20:\n",
    "                    team_groups[teams_list.index(team_name)][i] = 3\n",
    "                elif j < 30:\n",
    "                    team_groups[teams_list.index(team_name)][i] = 4\n",
    "                else:\n",
    "                    team_groups[teams_list.index(team_name)][i] = 5\n",
    "            else:\n",
    "                if j < 5:\n",
    "                    team_groups[teams_list.index(team_name)][i] = 1\n",
    "                elif j < 10:\n",
    "                    team_groups[teams_list.index(team_name)][i] = 2\n",
    "                elif j < 15:\n",
    "                    team_groups[teams_list.index(team_name)][i] = 3\n",
    "                elif j < 20:\n",
    "                    team_groups[teams_list.index(team_name)][i] = 4\n",
    "                elif j < 28:\n",
    "                    team_groups[teams_list.index(team_name)][i] = 5    \n",
    "                elif j < 30:\n",
    "                    team_groups[teams_list.index(team_name)][i] = 6\n",
    "                else:\n",
    "                    team_groups[teams_list.index(team_name)][i] = 7\n",
    "    \n",
    "    return team_groups"
   ]
  },
  {
   "cell_type": "code",
   "execution_count": 6,
   "metadata": {},
   "outputs": [],
   "source": [
    "total_data = []\n",
    "\n",
    "for markov_num in states_tested:\n",
    "    markov_groups = label_teams(data, teams_list, markov_num)\n",
    "    markov_probs = np.zeros(shape = (markov_num, markov_num))\n",
    "\n",
    "    for i in range(TEAMS):\n",
    "        for j in range(1, DRAFTS):\n",
    "            curr_state = markov_groups[i][j - 1] - 1\n",
    "            next_state = markov_groups[i][j] - 1\n",
    "            markov_probs[int(curr_state)][int(next_state)] += 1\n",
    "            \n",
    "    total = markov_probs.sum(0)\n",
    "\n",
    "    for i in range(markov_num):\n",
    "        for j in range(markov_num):\n",
    "            markov_probs[i][j] /= total[i]\n",
    "            \n",
    "    graph_data = np.zeros(shape = (markov_num, TENURE))\n",
    "\n",
    "    for i in range(TENURE):\n",
    "        for state in range(markov_num):\n",
    "            super_bowl = 0\n",
    "\n",
    "            for sims in range(SIMULATIONS):\n",
    "                initial = state + 1\n",
    "                flag = False\n",
    "\n",
    "                for years in range(i + 1):\n",
    "                    initial = weighted_random(initial, markov_probs)\n",
    "\n",
    "                    if initial > markov_num - 1:\n",
    "                        flag = True\n",
    "\n",
    "                if flag:\n",
    "                    super_bowl += 1\n",
    "\n",
    "            super_bowl /= (SIMULATIONS / 100)\n",
    "            graph_data[state][i] = super_bowl\n",
    "    \n",
    "    total_data.append(graph_data)"
   ]
  },
  {
   "cell_type": "code",
   "execution_count": 7,
   "metadata": {},
   "outputs": [],
   "source": [
    "ticks = []\n",
    "years = []\n",
    "\n",
    "for i in range(TENURE):\n",
    "    ticks.append(i)\n",
    "    years.append(\"Year \" + str(i + 1))"
   ]
  },
  {
   "cell_type": "code",
   "execution_count": 8,
   "metadata": {},
   "outputs": [
    {
     "data": {
      "text/plain": [
       "<Figure size 432x288 with 0 Axes>"
      ]
     },
     "metadata": {},
     "output_type": "display_data"
    }
   ],
   "source": [
    "for i in range(len(total_data)):\n",
    "    for j in range(states_tested[i]):\n",
    "        state_name = 'State ' + str(j + 1)\n",
    "        plt.plot(total_data[i][j], label = state_name)\n",
    "        \n",
    "    plt.legend()\n",
    "    plt.xticks(ticks, years)\n",
    "    plt.ylabel(\"(%)\")\n",
    "    plt.title(\"Probability of making Super Bowl\")\n",
    "    \n",
    "    path_name = str(states_tested[i]) + \"states.png\"\n",
    "    plt.savefig(path_name)\n",
    "    plt.clf()"
   ]
  },
  {
   "cell_type": "code",
   "execution_count": 11,
   "metadata": {},
   "outputs": [
    {
     "name": "stdout",
     "output_type": "stream",
     "text": [
      "Year 1 Difference: 8.423\n",
      "Year 5 Difference: 8.099\n",
      "Year 1 Difference: 4.629\n",
      "Year 5 Difference: 4.666\n",
      "Year 1 Difference: 7.192\n",
      "Year 5 Difference: 7.405999999999999\n"
     ]
    }
   ],
   "source": [
    "for i in range(len(total_data)):\n",
    "    print(\"Year 1 Difference: \" + str(total_data[i][int(states_tested[i] / 2)][0] - total_data[i][0][0]))\n",
    "    print(\"Year 5 Difference: \" + str(total_data[i][int(states_tested[i] / 2)][4] - total_data[i][0][4]))"
   ]
  },
  {
   "cell_type": "code",
   "execution_count": null,
   "metadata": {},
   "outputs": [],
   "source": []
  }
 ],
 "metadata": {
  "kernelspec": {
   "display_name": "Python 3",
   "language": "python",
   "name": "python3"
  },
  "language_info": {
   "codemirror_mode": {
    "name": "ipython",
    "version": 3
   },
   "file_extension": ".py",
   "mimetype": "text/x-python",
   "name": "python",
   "nbconvert_exporter": "python",
   "pygments_lexer": "ipython3",
   "version": "3.7.0"
  }
 },
 "nbformat": 4,
 "nbformat_minor": 2
}
